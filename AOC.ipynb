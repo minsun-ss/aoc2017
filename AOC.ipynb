{
 "cells": [
  {
   "cell_type": "markdown",
   "id": "687d4b67-0653-4bf5-8532-3816bea24db3",
   "metadata": {},
   "source": [
    "# Day 1"
   ]
  },
  {
   "cell_type": "code",
   "execution_count": 6,
   "id": "91b7cf37-f3f3-491f-8e8b-ce320eeecd59",
   "metadata": {},
   "outputs": [
    {
     "data": {
      "text/plain": [
       "995"
      ]
     },
     "execution_count": 6,
     "metadata": {},
     "output_type": "execute_result"
    }
   ],
   "source": [
    "values = [int(i) for i in open(\"data/day01\").read() if i != '\\n']\n",
    "\n",
    "sum([i if i == values[(idx+1)%len(values)] else 0 for idx, i in enumerate(values)])"
   ]
  },
  {
   "cell_type": "code",
   "execution_count": 7,
   "id": "39a4b6e0-cc8a-4334-b118-0920f657314b",
   "metadata": {},
   "outputs": [
    {
     "data": {
      "text/plain": [
       "1130"
      ]
     },
     "execution_count": 7,
     "metadata": {},
     "output_type": "execute_result"
    }
   ],
   "source": [
    "sum([i if i == values[(idx+len(values)//2)%len(values)] else 0 for idx, i in enumerate(values)])"
   ]
  },
  {
   "cell_type": "code",
   "execution_count": null,
   "id": "fc1cda96-2337-4e32-88f3-48d19b52294a",
   "metadata": {},
   "outputs": [],
   "source": []
  }
 ],
 "metadata": {
  "kernelspec": {
   "display_name": "Python 3 (ipykernel)",
   "language": "python",
   "name": "python3"
  },
  "language_info": {
   "codemirror_mode": {
    "name": "ipython",
    "version": 3
   },
   "file_extension": ".py",
   "mimetype": "text/x-python",
   "name": "python",
   "nbconvert_exporter": "python",
   "pygments_lexer": "ipython3",
   "version": "3.13.5"
  }
 },
 "nbformat": 4,
 "nbformat_minor": 5
}
