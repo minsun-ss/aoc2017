{
 "cells": [
  {
   "cell_type": "markdown",
   "id": "687d4b67-0653-4bf5-8532-3816bea24db3",
   "metadata": {},
   "source": [
    "# Day 1"
   ]
  },
  {
   "cell_type": "code",
   "execution_count": 6,
   "id": "91b7cf37-f3f3-491f-8e8b-ce320eeecd59",
   "metadata": {},
   "outputs": [
    {
     "data": {
      "text/plain": [
       "995"
      ]
     },
     "execution_count": 6,
     "metadata": {},
     "output_type": "execute_result"
    }
   ],
   "source": [
    "values = [int(i) for i in open(\"data/day01\").read() if i != '\\n']\n",
    "\n",
    "sum([i if i == values[(idx+1)%len(values)] else 0 for idx, i in enumerate(values)])"
   ]
  },
  {
   "cell_type": "code",
   "execution_count": 7,
   "id": "39a4b6e0-cc8a-4334-b118-0920f657314b",
   "metadata": {},
   "outputs": [
    {
     "data": {
      "text/plain": [
       "1130"
      ]
     },
     "execution_count": 7,
     "metadata": {},
     "output_type": "execute_result"
    }
   ],
   "source": [
    "sum([i if i == values[(idx+len(values)//2)%len(values)] else 0 for idx, i in enumerate(values)])"
   ]
  },
  {
   "cell_type": "markdown",
   "id": "5c32158a-db7c-4bda-952a-eeae3d037cf4",
   "metadata": {},
   "source": [
    "# Day 2"
   ]
  },
  {
   "cell_type": "code",
   "execution_count": 3,
   "id": "a5369476-850f-4839-a418-aa7f6884f311",
   "metadata": {},
   "outputs": [
    {
     "data": {
      "text/plain": [
       "46402"
      ]
     },
     "execution_count": 3,
     "metadata": {},
     "output_type": "execute_result"
    }
   ],
   "source": [
    "values = [list(map(int, i.split())) for i in open(\"data/day02\").read().strip().split(\"\\n\")]\n",
    "\n",
    "sum([max(i) - min(i) for i in values])"
   ]
  },
  {
   "cell_type": "code",
   "execution_count": 2,
   "id": "0f8b6e87-0ad0-4a85-bdbc-0ffcf5f31dfe",
   "metadata": {},
   "outputs": [
    {
     "data": {
      "text/plain": [
       "265"
      ]
     },
     "execution_count": 2,
     "metadata": {},
     "output_type": "execute_result"
    }
   ],
   "source": [
    "values = [list(map(int, i.split())) for i in open(\"data/day02\").read().strip().split(\"\\n\")]\n",
    "\n",
    "result = 0\n",
    "for value in values:\n",
    "    s = sorted(value, reverse=True)\n",
    "    for i in s:\n",
    "        for j in value:\n",
    "            if i != j and i%j==0:\n",
    "                result += i // j\n",
    "                break\n",
    "\n",
    "result"
   ]
  },
  {
   "cell_type": "markdown",
   "id": "e7bb1c87-47ab-4099-9c4a-2a83e65a09ba",
   "metadata": {},
   "source": [
    "# Day 10"
   ]
  },
  {
   "cell_type": "code",
   "execution_count": 1,
   "id": "bb2ffbef-1616-4cf1-997a-0a0cdd656510",
   "metadata": {},
   "outputs": [
    {
     "data": {
      "text/plain": [
       "6909"
      ]
     },
     "execution_count": 1,
     "metadata": {},
     "output_type": "execute_result"
    }
   ],
   "source": [
    "file = [int(i) for i in open('data/day17').read().strip().split(',')]\n",
    "\n",
    "start = list(range(256))\n",
    "current_position = 0\n",
    "skip = 0\n",
    "\n",
    "for length in file:\n",
    "    temp = []\n",
    "    for i in range(length//2):\n",
    "        start[(current_position+i)%len(start)], start[(current_position+length-i-1)%len(start)] =  start[(current_position+length-i-1)%len(start)], start[(current_position+i)%len(start)]\n",
    "    current_position = (current_position + length + skip) % len(start)\n",
    "    skip += 1 \n",
    "\n",
    "start[0]*start[1]"
   ]
  },
  {
   "cell_type": "code",
   "execution_count": 5,
   "id": "ab536eb1-9613-45a7-931f-07f86b4681e8",
   "metadata": {},
   "outputs": [
    {
     "data": {
      "text/plain": [
       "'3efbe78a8d82f29979031a4aa0b16a9d'"
      ]
     },
     "execution_count": 5,
     "metadata": {},
     "output_type": "execute_result"
    }
   ],
   "source": [
    "from functools import reduce\n",
    "\n",
    "data = [ord(i) for i in open('data/test').read().strip()]\n",
    "tag = [17, 31, 73, 47, 23]\n",
    "data.extend(tag)\n",
    "\n",
    "start = list(range(256))\n",
    "current_position = 0\n",
    "skip = 0\n",
    "\n",
    "for i in range(64):\n",
    "    for length in data:\n",
    "        for i in range(length//2):\n",
    "            start[(current_position+i)%len(start)], start[(current_position+length-i-1)%len(start)] =  start[(current_position+length-i-1)%len(start)], start[(current_position+i)%len(start)]\n",
    "        current_position = (current_position + length + skip) % len(start)\n",
    "        skip += 1\n",
    "\n",
    "dense_hash = [reduce(lambda x, y: x ^ y, start[i:i+16]) for i in range(0, 256, 16)]\n",
    "\"\".join([hex(i)[2:].zfill(2) for i in dense_hash])\n"
   ]
  },
  {
   "cell_type": "markdown",
   "id": "42c43a86-cd89-478f-b940-8fea0102ad7b",
   "metadata": {},
   "source": [
    "# Day 11"
   ]
  },
  {
   "cell_type": "code",
   "execution_count": 5,
   "id": "7356af9e-7ded-4c25-a575-00bc2b7d4275",
   "metadata": {},
   "outputs": [
    {
     "data": {
      "text/plain": [
       "808"
      ]
     },
     "execution_count": 5,
     "metadata": {},
     "output_type": "execute_result"
    }
   ],
   "source": [
    "values = [i for i in open(\"data/day11\").read().strip().split(\",\")]\n",
    "\n",
    "def collapse(values) -> tuple[list, bool]:\n",
    "    if \"se\" in values and \"sw\" in values:\n",
    "        values.remove(\"se\")\n",
    "        values.remove(\"sw\")\n",
    "        values.append(\"s\")\n",
    "        return values, True\n",
    "    elif \"ne\" in values and \"nw\" in values:\n",
    "        values.remove(\"ne\")\n",
    "        values.remove(\"nw\")\n",
    "        values.append(\"n\")\n",
    "        return values, True\n",
    "    elif \"ne\" in values and \"sw\" in values:\n",
    "        values.remove(\"ne\")\n",
    "        values.remove(\"sw\")\n",
    "        return values, True\n",
    "    elif \"nw\" in values and \"se\" in values:\n",
    "        values.remove(\"nw\")\n",
    "        values.remove(\"se\")\n",
    "        return values, True\n",
    "    elif \"n\" in values and \"s\" in values:\n",
    "        values.remove(\"s\")\n",
    "        values.remove(\"n\")\n",
    "        return values, True\n",
    "    elif \"nw\" in values and \"s\" in values:\n",
    "        values.remove(\"nw\")\n",
    "        values.remove(\"s\")\n",
    "        values.append(\"sw\")\n",
    "        return values, True\n",
    "    else:\n",
    "        return values, False\n",
    "\n",
    "result = True\n",
    "while result:\n",
    "    values, result = collapse(values)\n",
    "\n",
    "len(values)"
   ]
  },
  {
   "cell_type": "code",
   "execution_count": 6,
   "id": "7e85d307-24b8-4afb-a268-b283bf47b991",
   "metadata": {},
   "outputs": [
    {
     "data": {
      "text/plain": [
       "1556"
      ]
     },
     "execution_count": 6,
     "metadata": {},
     "output_type": "execute_result"
    }
   ],
   "source": [
    "values = [i for i in open(\"data/day11\").read().strip().split(\",\")]\n",
    "\n",
    "def collapse(values) -> tuple[list, bool]:\n",
    "    if \"se\" in values and \"sw\" in values:\n",
    "        values.remove(\"se\")\n",
    "        values.remove(\"sw\")\n",
    "        values.append(\"s\")\n",
    "        return values, True\n",
    "    elif \"ne\" in values and \"nw\" in values:\n",
    "        values.remove(\"ne\")\n",
    "        values.remove(\"nw\")\n",
    "        values.append(\"n\")\n",
    "        return values, True\n",
    "    elif \"ne\" in values and \"sw\" in values:\n",
    "        values.remove(\"ne\")\n",
    "        values.remove(\"sw\")\n",
    "        return values, True\n",
    "    elif \"nw\" in values and \"se\" in values:\n",
    "        values.remove(\"nw\")\n",
    "        values.remove(\"se\")\n",
    "        return values, True\n",
    "    elif \"n\" in values and \"s\" in values:\n",
    "        values.remove(\"s\")\n",
    "        values.remove(\"n\")\n",
    "        return values, True\n",
    "    elif \"nw\" in values and \"s\" in values:\n",
    "        values.remove(\"nw\")\n",
    "        values.remove(\"s\")\n",
    "        values.append(\"sw\")\n",
    "        return values, True\n",
    "    else:\n",
    "        return values, False\n",
    "\n",
    "max_length = 0\n",
    "short_length = []\n",
    "\n",
    "for i in values:\n",
    "    short_length.append(i)\n",
    "\n",
    "    if len(short_length) < max_length:\n",
    "        pass\n",
    "    else:\n",
    "        result = True\n",
    "        while result:\n",
    "            short_length, result = collapse(short_length)\n",
    "        if len(short_length) > max_length:\n",
    "            max_length = len(short_length)\n",
    "        \n",
    "max_length"
   ]
  },
  {
   "cell_type": "markdown",
   "id": "87baf887-f57e-46fd-96c2-53a17b80fdd3",
   "metadata": {},
   "source": [
    "# Day 12"
   ]
  },
  {
   "cell_type": "code",
   "execution_count": 8,
   "id": "a2b9b7a2-6bd3-4301-b276-14e184c1299d",
   "metadata": {},
   "outputs": [
    {
     "data": {
      "text/plain": [
       "239"
      ]
     },
     "execution_count": 8,
     "metadata": {},
     "output_type": "execute_result"
    }
   ],
   "source": [
    "values = [i.split(\" <-> \") for i in open(\"data/day12\").read().strip().split(\"\\n\")]\n",
    "\n",
    "chains = {}\n",
    "for k, v in values:\n",
    "    chains[int(k)] = [int(i.strip()) for i in v.split(\",\")]\n",
    "\n",
    "connected = set()\n",
    "to_visit = set(chains[0])\n",
    "\n",
    "while to_visit:\n",
    "    to_check = to_visit.pop()\n",
    "    if to_check not in connected:\n",
    "        connected.add(to_check)\n",
    "        for val in chains[to_check]:\n",
    "            to_visit.add(val)\n",
    "\n",
    "len(connected)"
   ]
  },
  {
   "cell_type": "code",
   "execution_count": 10,
   "id": "84ec1ab2-fe0f-4795-a977-133adc97f3ae",
   "metadata": {},
   "outputs": [
    {
     "data": {
      "text/plain": [
       "215"
      ]
     },
     "execution_count": 10,
     "metadata": {},
     "output_type": "execute_result"
    }
   ],
   "source": [
    "values = [i.split(\" <-> \") for i in open(\"data/day12\").read().strip().split(\"\\n\")]\n",
    "\n",
    "chains = {}\n",
    "for k, v in values:\n",
    "    chains[int(k)] = [int(i.strip()) for i in v.split(\",\")]\n",
    "\n",
    "all_values = set()\n",
    "for k, v in chains.items():\n",
    "    all_values.add(k)\n",
    "    for i in v:\n",
    "        all_values.add(i)\n",
    "\n",
    "def create_set(seed: int) -> set:\n",
    "    connected = set()\n",
    "    to_visit = set(chains[seed])\n",
    "    \n",
    "    while to_visit:\n",
    "        to_check = to_visit.pop()\n",
    "        if to_check not in connected:\n",
    "            connected.add(to_check)\n",
    "            for val in chains[to_check]:\n",
    "                to_visit.add(val)\n",
    "\n",
    "    return connected\n",
    "\n",
    "group_seeds = []\n",
    "while all_values:\n",
    "    seed = all_values.pop()\n",
    "    group_seeds.append(seed)\n",
    "    group = create_set(seed)\n",
    "    all_values = all_values - group\n",
    "    \n",
    "len(group_seeds)"
   ]
  },
  {
   "cell_type": "markdown",
   "id": "832525d2-0eab-45b3-a002-58c6074ee83e",
   "metadata": {},
   "source": [
    "# Day 13"
   ]
  },
  {
   "cell_type": "code",
   "execution_count": 2,
   "id": "263fb81e-02ef-433d-8055-415b10eb10bc",
   "metadata": {},
   "outputs": [
    {
     "data": {
      "text/plain": [
       "788"
      ]
     },
     "execution_count": 2,
     "metadata": {},
     "output_type": "execute_result"
    }
   ],
   "source": [
    "values = {int(v.split(\":\")[0]): int(v.split(\":\")[1]) for v in open('data/day13').read().strip().split(\"\\n\")}\n",
    "\n",
    "def position(steps: int, depth: int):\n",
    "    position_length = (depth - 1) * 2\n",
    "    idx = (steps-1) % position_length\n",
    "    if idx > depth - 1:\n",
    "        return idx - (depth -1)\n",
    "    else:\n",
    "        return idx\n",
    "\n",
    "sum([packet * depth for packet, depth in values.items() if position(packet+1, depth)==0])"
   ]
  },
  {
   "cell_type": "code",
   "execution_count": 3,
   "id": "2134629a-da99-4b4c-89cf-f360180a231d",
   "metadata": {},
   "outputs": [
    {
     "data": {
      "text/plain": [
       "3905748"
      ]
     },
     "execution_count": 3,
     "metadata": {},
     "output_type": "execute_result"
    }
   ],
   "source": [
    "values = {int(v.split(\":\")[0]): int(v.split(\":\")[1]) for v in open('data/day13').read().strip().split(\"\\n\")}\n",
    "\n",
    "def position(steps: int, depth: int, delay: int = 0):\n",
    "    final_steps = steps + delay\n",
    "    position_length = (depth - 1) * 2\n",
    "    idx = (final_steps-1) % position_length\n",
    "    if idx > depth - 1:\n",
    "        return idx - (depth -1)\n",
    "    else:\n",
    "        return idx\n",
    "\n",
    "def check(delay):\n",
    "    for packet, depth in values.items():\n",
    "        scanner = position(packet+1, depth, delay)\n",
    "        if scanner == 0:\n",
    "            return -1\n",
    "    return delay\n",
    "\n",
    "\n",
    "delay = 0\n",
    "while (val := check(delay)) == -1:\n",
    "    delay += 1\n",
    "\n",
    "delay"
   ]
  },
  {
   "cell_type": "markdown",
   "id": "0b1cf786-4e9d-417b-b279-e9c17c364a9c",
   "metadata": {},
   "source": [
    "# Day 14"
   ]
  },
  {
   "cell_type": "code",
   "execution_count": 1,
   "id": "2889f1a0-71b7-4a6c-b679-3dcce167c91a",
   "metadata": {},
   "outputs": [
    {
     "data": {
      "text/plain": [
       "8106"
      ]
     },
     "execution_count": 1,
     "metadata": {},
     "output_type": "execute_result"
    }
   ],
   "source": [
    "from functools import reduce\n",
    "\n",
    "input = \"oundnydw\"\n",
    "\n",
    "def knot_hash(value: str, row: int): \n",
    "    value = f\"{value}-{row}\"\n",
    "\n",
    "    data = [ord(i) for i in value]\n",
    "    tag = [17, 31, 73, 47, 23]\n",
    "    data.extend(tag)\n",
    "    \n",
    "    start = list(range(256))\n",
    "    current_position = 0\n",
    "    skip = 0\n",
    "    \n",
    "    for i in range(64):\n",
    "        for length in data:\n",
    "            for i in range(length//2):\n",
    "                start[(current_position+i)%len(start)], start[(current_position+length-i-1)%len(start)] =  start[(current_position+length-i-1)%len(start)], start[(current_position+i)%len(start)]\n",
    "            current_position = (current_position + length + skip) % len(start)\n",
    "            skip += 1\n",
    "    \n",
    "    dense_hash = [reduce(lambda x, y: x ^ y, start[i:i+16]) for i in range(0, 256, 16)]\n",
    "    result = \"\".join([hex(i)[2:].zfill(2) for i in dense_hash])\n",
    "\n",
    "    bin_hash = \"\"\n",
    "    for i, v in enumerate(result):\n",
    "        binvalue = bin(int(v, 16))[2:].rjust(4, \"0\")\n",
    "        bin_hash += binvalue\n",
    "    \n",
    "    return bin_hash\n",
    "\n",
    "nonempty = 0\n",
    "for i in range(128):\n",
    "    result = knot_hash(input, i)\n",
    "    result = result.replace(\"0\",\"\")\n",
    "    nonempty += len(result)\n",
    "\n",
    "nonempty"
   ]
  },
  {
   "cell_type": "code",
   "execution_count": 2,
   "id": "50870fc4-aed8-47b8-b266-fefb7a04a48b",
   "metadata": {},
   "outputs": [
    {
     "data": {
      "text/plain": [
       "1164"
      ]
     },
     "execution_count": 2,
     "metadata": {},
     "output_type": "execute_result"
    }
   ],
   "source": [
    "from functools import reduce\n",
    "\n",
    "input = \"oundnydw\"\n",
    "\n",
    "def knot_hash(value: str, row: int): \n",
    "    value = f\"{value}-{row}\"\n",
    "\n",
    "    data = [ord(i) for i in value]\n",
    "    tag = [17, 31, 73, 47, 23]\n",
    "    data.extend(tag)\n",
    "    \n",
    "    start = list(range(256))\n",
    "    current_position = 0\n",
    "    skip = 0\n",
    "    \n",
    "    for i in range(64):\n",
    "        for length in data:\n",
    "            for i in range(length//2):\n",
    "                start[(current_position+i)%len(start)], start[(current_position+length-i-1)%len(start)] =  start[(current_position+length-i-1)%len(start)], start[(current_position+i)%len(start)]\n",
    "            current_position = (current_position + length + skip) % len(start)\n",
    "            skip += 1\n",
    "    \n",
    "    dense_hash = [reduce(lambda x, y: x ^ y, start[i:i+16]) for i in range(0, 256, 16)]\n",
    "    result = \"\".join([hex(i)[2:].zfill(2) for i in dense_hash])\n",
    "\n",
    "    bin_hash = \"\"\n",
    "    for i, v in enumerate(result):\n",
    "        binvalue = bin(int(v, 16))[2:].rjust(4, \"0\")\n",
    "        bin_hash += binvalue\n",
    "    \n",
    "    return bin_hash\n",
    "\n",
    "grid = []\n",
    "for i in range(128):\n",
    "    result = knot_hash(input, i)\n",
    "    grid.append(result)\n",
    "\n",
    "def get_value(x, y, grid):\n",
    "    return grid[y][x]\n",
    "    \n",
    "def is_adjacent(x, y, grid):\n",
    "    values = []\n",
    "    if y-1 >= 0 and y-1 < len(grid):\n",
    "        values.append((x, y-1))\n",
    "    if y+1 >= 0 and y+1 < len(grid):\n",
    "        values.append((x, y+1))\n",
    "    if x-1 >= 0 and x-1 < len(grid[0]):\n",
    "        values.append((x-1, y))\n",
    "    if x+1 >= 0 and x+1 < len((grid[0])):\n",
    "        values.append((x+1, y))\n",
    "\n",
    "    return values\n",
    "\n",
    "def find_group(x, y, grid):\n",
    "    seen = set()\n",
    "    to_check = set()\n",
    "    to_check.add((x, y))\n",
    "\n",
    "    while to_check:\n",
    "        value = to_check.pop()\n",
    "        if value not in seen:\n",
    "            if get_value(*value, grid) == '1':\n",
    "                neighbors = is_adjacent(*value, grid)\n",
    "                for n in neighbors:\n",
    "                    if get_value(*n, grid) == '1':\n",
    "                        to_check.add(n)\n",
    "        # else do nothing\n",
    "        seen.add(value)\n",
    "    return seen\n",
    "\n",
    "all_seen = set()\n",
    "groups = []\n",
    "for i in range(len(grid)):\n",
    "    for j in range(len(grid[0])):\n",
    "        to_check = get_value(i, j, grid)\n",
    "        if to_check == '1' and (i,j) not in all_seen:\n",
    "            g = find_group(i, j, grid)\n",
    "            groups.append(g)\n",
    "            all_seen.update(g)\n",
    "\n",
    "len(groups)    "
   ]
  },
  {
   "cell_type": "code",
   "execution_count": null,
   "id": "7b0d1c2d-c4b0-41d2-9573-33af81295250",
   "metadata": {},
   "outputs": [],
   "source": []
  }
 ],
 "metadata": {
  "kernelspec": {
   "display_name": "Python 3 (ipykernel)",
   "language": "python",
   "name": "python3"
  },
  "language_info": {
   "codemirror_mode": {
    "name": "ipython",
    "version": 3
   },
   "file_extension": ".py",
   "mimetype": "text/x-python",
   "name": "python",
   "nbconvert_exporter": "python",
   "pygments_lexer": "ipython3",
   "version": "3.12.7"
  }
 },
 "nbformat": 4,
 "nbformat_minor": 5
}
