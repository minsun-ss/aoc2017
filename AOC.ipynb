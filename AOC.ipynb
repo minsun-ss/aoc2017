{
 "cells": [
  {
   "cell_type": "markdown",
   "id": "687d4b67-0653-4bf5-8532-3816bea24db3",
   "metadata": {},
   "source": [
    "# Day 1"
   ]
  },
  {
   "cell_type": "code",
   "execution_count": 6,
   "id": "91b7cf37-f3f3-491f-8e8b-ce320eeecd59",
   "metadata": {},
   "outputs": [
    {
     "data": {
      "text/plain": [
       "995"
      ]
     },
     "execution_count": 6,
     "metadata": {},
     "output_type": "execute_result"
    }
   ],
   "source": [
    "values = [int(i) for i in open(\"data/day01\").read() if i != '\\n']\n",
    "\n",
    "sum([i if i == values[(idx+1)%len(values)] else 0 for idx, i in enumerate(values)])"
   ]
  },
  {
   "cell_type": "code",
   "execution_count": 7,
   "id": "39a4b6e0-cc8a-4334-b118-0920f657314b",
   "metadata": {},
   "outputs": [
    {
     "data": {
      "text/plain": [
       "1130"
      ]
     },
     "execution_count": 7,
     "metadata": {},
     "output_type": "execute_result"
    }
   ],
   "source": [
    "sum([i if i == values[(idx+len(values)//2)%len(values)] else 0 for idx, i in enumerate(values)])"
   ]
  },
  {
   "cell_type": "markdown",
   "id": "5c32158a-db7c-4bda-952a-eeae3d037cf4",
   "metadata": {},
   "source": [
    "# Day 2"
   ]
  },
  {
   "cell_type": "code",
   "execution_count": 3,
   "id": "a5369476-850f-4839-a418-aa7f6884f311",
   "metadata": {},
   "outputs": [
    {
     "data": {
      "text/plain": [
       "46402"
      ]
     },
     "execution_count": 3,
     "metadata": {},
     "output_type": "execute_result"
    }
   ],
   "source": [
    "values = [list(map(int, i.split())) for i in open(\"data/day02\").read().strip().split(\"\\n\")]\n",
    "\n",
    "sum([max(i) - min(i) for i in values])"
   ]
  },
  {
   "cell_type": "code",
   "execution_count": 2,
   "id": "0f8b6e87-0ad0-4a85-bdbc-0ffcf5f31dfe",
   "metadata": {},
   "outputs": [
    {
     "data": {
      "text/plain": [
       "265"
      ]
     },
     "execution_count": 2,
     "metadata": {},
     "output_type": "execute_result"
    }
   ],
   "source": [
    "values = [list(map(int, i.split())) for i in open(\"data/day02\").read().strip().split(\"\\n\")]\n",
    "\n",
    "result = 0\n",
    "for value in values:\n",
    "    s = sorted(value, reverse=True)\n",
    "    for i in s:\n",
    "        for j in value:\n",
    "            if i != j and i%j==0:\n",
    "                result += i // j\n",
    "                break\n",
    "\n",
    "result"
   ]
  },
  {
   "cell_type": "markdown",
   "id": "e7bb1c87-47ab-4099-9c4a-2a83e65a09ba",
   "metadata": {},
   "source": [
    "# Day 10"
   ]
  },
  {
   "cell_type": "code",
   "execution_count": 1,
   "id": "bb2ffbef-1616-4cf1-997a-0a0cdd656510",
   "metadata": {},
   "outputs": [
    {
     "data": {
      "text/plain": [
       "6909"
      ]
     },
     "execution_count": 1,
     "metadata": {},
     "output_type": "execute_result"
    }
   ],
   "source": [
    "file = [int(i) for i in open('data/day17').read().strip().split(',')]\n",
    "\n",
    "start = list(range(256))\n",
    "current_position = 0\n",
    "skip = 0\n",
    "\n",
    "for length in file:\n",
    "    temp = []\n",
    "    for i in range(length//2):\n",
    "        start[(current_position+i)%len(start)], start[(current_position+length-i-1)%len(start)] =  start[(current_position+length-i-1)%len(start)], start[(current_position+i)%len(start)]\n",
    "    current_position = (current_position + length + skip) % len(start)\n",
    "    skip += 1 \n",
    "\n",
    "start[0]*start[1]"
   ]
  },
  {
   "cell_type": "code",
   "execution_count": 5,
   "id": "ab536eb1-9613-45a7-931f-07f86b4681e8",
   "metadata": {},
   "outputs": [
    {
     "data": {
      "text/plain": [
       "'3efbe78a8d82f29979031a4aa0b16a9d'"
      ]
     },
     "execution_count": 5,
     "metadata": {},
     "output_type": "execute_result"
    }
   ],
   "source": [
    "from functools import reduce\n",
    "\n",
    "data = [ord(i) for i in open('data/test').read().strip()]\n",
    "tag = [17, 31, 73, 47, 23]\n",
    "data.extend(tag)\n",
    "\n",
    "start = list(range(256))\n",
    "current_position = 0\n",
    "skip = 0\n",
    "\n",
    "for i in range(64):\n",
    "    for length in data:\n",
    "        for i in range(length//2):\n",
    "            start[(current_position+i)%len(start)], start[(current_position+length-i-1)%len(start)] =  start[(current_position+length-i-1)%len(start)], start[(current_position+i)%len(start)]\n",
    "        current_position = (current_position + length + skip) % len(start)\n",
    "        skip += 1\n",
    "\n",
    "dense_hash = [reduce(lambda x, y: x ^ y, start[i:i+16]) for i in range(0, 256, 16)]\n",
    "\"\".join([hex(i)[2:].zfill(2) for i in dense_hash])\n"
   ]
  },
  {
   "cell_type": "markdown",
   "id": "42c43a86-cd89-478f-b940-8fea0102ad7b",
   "metadata": {},
   "source": [
    "# Day 11"
   ]
  },
  {
   "cell_type": "code",
   "execution_count": 5,
   "id": "7356af9e-7ded-4c25-a575-00bc2b7d4275",
   "metadata": {},
   "outputs": [
    {
     "data": {
      "text/plain": [
       "808"
      ]
     },
     "execution_count": 5,
     "metadata": {},
     "output_type": "execute_result"
    }
   ],
   "source": [
    "values = [i for i in open(\"data/day11\").read().strip().split(\",\")]\n",
    "\n",
    "def collapse(values) -> tuple[list, bool]:\n",
    "    if \"se\" in values and \"sw\" in values:\n",
    "        values.remove(\"se\")\n",
    "        values.remove(\"sw\")\n",
    "        values.append(\"s\")\n",
    "        return values, True\n",
    "    elif \"ne\" in values and \"nw\" in values:\n",
    "        values.remove(\"ne\")\n",
    "        values.remove(\"nw\")\n",
    "        values.append(\"n\")\n",
    "        return values, True\n",
    "    elif \"ne\" in values and \"sw\" in values:\n",
    "        values.remove(\"ne\")\n",
    "        values.remove(\"sw\")\n",
    "        return values, True\n",
    "    elif \"nw\" in values and \"se\" in values:\n",
    "        values.remove(\"nw\")\n",
    "        values.remove(\"se\")\n",
    "        return values, True\n",
    "    elif \"n\" in values and \"s\" in values:\n",
    "        values.remove(\"s\")\n",
    "        values.remove(\"n\")\n",
    "        return values, True\n",
    "    elif \"nw\" in values and \"s\" in values:\n",
    "        values.remove(\"nw\")\n",
    "        values.remove(\"s\")\n",
    "        values.append(\"sw\")\n",
    "        return values, True\n",
    "    else:\n",
    "        return values, False\n",
    "\n",
    "result = True\n",
    "while result:\n",
    "    values, result = collapse(values)\n",
    "\n",
    "len(values)"
   ]
  },
  {
   "cell_type": "code",
   "execution_count": 6,
   "id": "7e85d307-24b8-4afb-a268-b283bf47b991",
   "metadata": {},
   "outputs": [
    {
     "data": {
      "text/plain": [
       "1556"
      ]
     },
     "execution_count": 6,
     "metadata": {},
     "output_type": "execute_result"
    }
   ],
   "source": [
    "values = [i for i in open(\"data/day11\").read().strip().split(\",\")]\n",
    "\n",
    "def collapse(values) -> tuple[list, bool]:\n",
    "    if \"se\" in values and \"sw\" in values:\n",
    "        values.remove(\"se\")\n",
    "        values.remove(\"sw\")\n",
    "        values.append(\"s\")\n",
    "        return values, True\n",
    "    elif \"ne\" in values and \"nw\" in values:\n",
    "        values.remove(\"ne\")\n",
    "        values.remove(\"nw\")\n",
    "        values.append(\"n\")\n",
    "        return values, True\n",
    "    elif \"ne\" in values and \"sw\" in values:\n",
    "        values.remove(\"ne\")\n",
    "        values.remove(\"sw\")\n",
    "        return values, True\n",
    "    elif \"nw\" in values and \"se\" in values:\n",
    "        values.remove(\"nw\")\n",
    "        values.remove(\"se\")\n",
    "        return values, True\n",
    "    elif \"n\" in values and \"s\" in values:\n",
    "        values.remove(\"s\")\n",
    "        values.remove(\"n\")\n",
    "        return values, True\n",
    "    elif \"nw\" in values and \"s\" in values:\n",
    "        values.remove(\"nw\")\n",
    "        values.remove(\"s\")\n",
    "        values.append(\"sw\")\n",
    "        return values, True\n",
    "    else:\n",
    "        return values, False\n",
    "\n",
    "max_length = 0\n",
    "short_length = []\n",
    "\n",
    "for i in values:\n",
    "    short_length.append(i)\n",
    "\n",
    "    if len(short_length) < max_length:\n",
    "        pass\n",
    "    else:\n",
    "        result = True\n",
    "        while result:\n",
    "            short_length, result = collapse(short_length)\n",
    "        if len(short_length) > max_length:\n",
    "            max_length = len(short_length)\n",
    "        \n",
    "max_length"
   ]
  },
  {
   "cell_type": "markdown",
   "id": "87baf887-f57e-46fd-96c2-53a17b80fdd3",
   "metadata": {},
   "source": [
    "# Day 12"
   ]
  },
  {
   "cell_type": "code",
   "execution_count": 8,
   "id": "a2b9b7a2-6bd3-4301-b276-14e184c1299d",
   "metadata": {},
   "outputs": [
    {
     "data": {
      "text/plain": [
       "239"
      ]
     },
     "execution_count": 8,
     "metadata": {},
     "output_type": "execute_result"
    }
   ],
   "source": [
    "values = [i.split(\" <-> \") for i in open(\"data/day12\").read().strip().split(\"\\n\")]\n",
    "\n",
    "chains = {}\n",
    "for k, v in values:\n",
    "    chains[int(k)] = [int(i.strip()) for i in v.split(\",\")]\n",
    "\n",
    "connected = set()\n",
    "to_visit = set(chains[0])\n",
    "\n",
    "while to_visit:\n",
    "    to_check = to_visit.pop()\n",
    "    if to_check not in connected:\n",
    "        connected.add(to_check)\n",
    "        for val in chains[to_check]:\n",
    "            to_visit.add(val)\n",
    "\n",
    "len(connected)"
   ]
  },
  {
   "cell_type": "code",
   "execution_count": 10,
   "id": "84ec1ab2-fe0f-4795-a977-133adc97f3ae",
   "metadata": {},
   "outputs": [
    {
     "data": {
      "text/plain": [
       "215"
      ]
     },
     "execution_count": 10,
     "metadata": {},
     "output_type": "execute_result"
    }
   ],
   "source": [
    "values = [i.split(\" <-> \") for i in open(\"data/day12\").read().strip().split(\"\\n\")]\n",
    "\n",
    "chains = {}\n",
    "for k, v in values:\n",
    "    chains[int(k)] = [int(i.strip()) for i in v.split(\",\")]\n",
    "\n",
    "all_values = set()\n",
    "for k, v in chains.items():\n",
    "    all_values.add(k)\n",
    "    for i in v:\n",
    "        all_values.add(i)\n",
    "\n",
    "def create_set(seed: int) -> set:\n",
    "    connected = set()\n",
    "    to_visit = set(chains[seed])\n",
    "    \n",
    "    while to_visit:\n",
    "        to_check = to_visit.pop()\n",
    "        if to_check not in connected:\n",
    "            connected.add(to_check)\n",
    "            for val in chains[to_check]:\n",
    "                to_visit.add(val)\n",
    "\n",
    "    return connected\n",
    "\n",
    "group_seeds = []\n",
    "while all_values:\n",
    "    seed = all_values.pop()\n",
    "    group_seeds.append(seed)\n",
    "    group = create_set(seed)\n",
    "    all_values = all_values - group\n",
    "    \n",
    "len(group_seeds)"
   ]
  },
  {
   "cell_type": "markdown",
   "id": "832525d2-0eab-45b3-a002-58c6074ee83e",
   "metadata": {},
   "source": [
    "# Day 13"
   ]
  },
  {
   "cell_type": "code",
   "execution_count": 2,
   "id": "263fb81e-02ef-433d-8055-415b10eb10bc",
   "metadata": {},
   "outputs": [
    {
     "data": {
      "text/plain": [
       "788"
      ]
     },
     "execution_count": 2,
     "metadata": {},
     "output_type": "execute_result"
    }
   ],
   "source": [
    "values = {int(v.split(\":\")[0]): int(v.split(\":\")[1]) for v in open('data/day13').read().strip().split(\"\\n\")}\n",
    "\n",
    "def position(steps: int, depth: int):\n",
    "    position_length = (depth - 1) * 2\n",
    "    idx = (steps-1) % position_length\n",
    "    if idx > depth - 1:\n",
    "        return idx - (depth -1)\n",
    "    else:\n",
    "        return idx\n",
    "\n",
    "sum([packet * depth for packet, depth in values.items() if position(packet+1, depth)==0])"
   ]
  },
  {
   "cell_type": "code",
   "execution_count": 3,
   "id": "2134629a-da99-4b4c-89cf-f360180a231d",
   "metadata": {},
   "outputs": [
    {
     "data": {
      "text/plain": [
       "3905748"
      ]
     },
     "execution_count": 3,
     "metadata": {},
     "output_type": "execute_result"
    }
   ],
   "source": [
    "values = {int(v.split(\":\")[0]): int(v.split(\":\")[1]) for v in open('data/day13').read().strip().split(\"\\n\")}\n",
    "\n",
    "def position(steps: int, depth: int, delay: int = 0):\n",
    "    final_steps = steps + delay\n",
    "    position_length = (depth - 1) * 2\n",
    "    idx = (final_steps-1) % position_length\n",
    "    if idx > depth - 1:\n",
    "        return idx - (depth -1)\n",
    "    else:\n",
    "        return idx\n",
    "\n",
    "def check(delay):\n",
    "    for packet, depth in values.items():\n",
    "        scanner = position(packet+1, depth, delay)\n",
    "        if scanner == 0:\n",
    "            return -1\n",
    "    return delay\n",
    "\n",
    "\n",
    "delay = 0\n",
    "while (val := check(delay)) == -1:\n",
    "    delay += 1\n",
    "\n",
    "delay"
   ]
  },
  {
   "cell_type": "markdown",
   "id": "0b1cf786-4e9d-417b-b279-e9c17c364a9c",
   "metadata": {},
   "source": [
    "# Day 14"
   ]
  },
  {
   "cell_type": "code",
   "execution_count": 1,
   "id": "2889f1a0-71b7-4a6c-b679-3dcce167c91a",
   "metadata": {},
   "outputs": [
    {
     "data": {
      "text/plain": [
       "8106"
      ]
     },
     "execution_count": 1,
     "metadata": {},
     "output_type": "execute_result"
    }
   ],
   "source": [
    "from functools import reduce\n",
    "\n",
    "input = \"oundnydw\"\n",
    "\n",
    "def knot_hash(value: str, row: int): \n",
    "    value = f\"{value}-{row}\"\n",
    "\n",
    "    data = [ord(i) for i in value]\n",
    "    tag = [17, 31, 73, 47, 23]\n",
    "    data.extend(tag)\n",
    "    \n",
    "    start = list(range(256))\n",
    "    current_position = 0\n",
    "    skip = 0\n",
    "    \n",
    "    for i in range(64):\n",
    "        for length in data:\n",
    "            for i in range(length//2):\n",
    "                start[(current_position+i)%len(start)], start[(current_position+length-i-1)%len(start)] =  start[(current_position+length-i-1)%len(start)], start[(current_position+i)%len(start)]\n",
    "            current_position = (current_position + length + skip) % len(start)\n",
    "            skip += 1\n",
    "    \n",
    "    dense_hash = [reduce(lambda x, y: x ^ y, start[i:i+16]) for i in range(0, 256, 16)]\n",
    "    result = \"\".join([hex(i)[2:].zfill(2) for i in dense_hash])\n",
    "\n",
    "    bin_hash = \"\"\n",
    "    for i, v in enumerate(result):\n",
    "        binvalue = bin(int(v, 16))[2:].rjust(4, \"0\")\n",
    "        bin_hash += binvalue\n",
    "    \n",
    "    return bin_hash\n",
    "\n",
    "nonempty = 0\n",
    "for i in range(128):\n",
    "    result = knot_hash(input, i)\n",
    "    result = result.replace(\"0\",\"\")\n",
    "    nonempty += len(result)\n",
    "\n",
    "nonempty"
   ]
  },
  {
   "cell_type": "code",
   "execution_count": 2,
   "id": "50870fc4-aed8-47b8-b266-fefb7a04a48b",
   "metadata": {},
   "outputs": [
    {
     "data": {
      "text/plain": [
       "1164"
      ]
     },
     "execution_count": 2,
     "metadata": {},
     "output_type": "execute_result"
    }
   ],
   "source": [
    "from functools import reduce\n",
    "\n",
    "input = \"oundnydw\"\n",
    "\n",
    "def knot_hash(value: str, row: int): \n",
    "    value = f\"{value}-{row}\"\n",
    "\n",
    "    data = [ord(i) for i in value]\n",
    "    tag = [17, 31, 73, 47, 23]\n",
    "    data.extend(tag)\n",
    "    \n",
    "    start = list(range(256))\n",
    "    current_position = 0\n",
    "    skip = 0\n",
    "    \n",
    "    for i in range(64):\n",
    "        for length in data:\n",
    "            for i in range(length//2):\n",
    "                start[(current_position+i)%len(start)], start[(current_position+length-i-1)%len(start)] =  start[(current_position+length-i-1)%len(start)], start[(current_position+i)%len(start)]\n",
    "            current_position = (current_position + length + skip) % len(start)\n",
    "            skip += 1\n",
    "    \n",
    "    dense_hash = [reduce(lambda x, y: x ^ y, start[i:i+16]) for i in range(0, 256, 16)]\n",
    "    result = \"\".join([hex(i)[2:].zfill(2) for i in dense_hash])\n",
    "\n",
    "    bin_hash = \"\"\n",
    "    for i, v in enumerate(result):\n",
    "        binvalue = bin(int(v, 16))[2:].rjust(4, \"0\")\n",
    "        bin_hash += binvalue\n",
    "    \n",
    "    return bin_hash\n",
    "\n",
    "grid = []\n",
    "for i in range(128):\n",
    "    result = knot_hash(input, i)\n",
    "    grid.append(result)\n",
    "\n",
    "def get_value(x, y, grid):\n",
    "    return grid[y][x]\n",
    "    \n",
    "def is_adjacent(x, y, grid):\n",
    "    values = []\n",
    "    if y-1 >= 0 and y-1 < len(grid):\n",
    "        values.append((x, y-1))\n",
    "    if y+1 >= 0 and y+1 < len(grid):\n",
    "        values.append((x, y+1))\n",
    "    if x-1 >= 0 and x-1 < len(grid[0]):\n",
    "        values.append((x-1, y))\n",
    "    if x+1 >= 0 and x+1 < len((grid[0])):\n",
    "        values.append((x+1, y))\n",
    "\n",
    "    return values\n",
    "\n",
    "def find_group(x, y, grid):\n",
    "    seen = set()\n",
    "    to_check = set()\n",
    "    to_check.add((x, y))\n",
    "\n",
    "    while to_check:\n",
    "        value = to_check.pop()\n",
    "        if value not in seen:\n",
    "            if get_value(*value, grid) == '1':\n",
    "                neighbors = is_adjacent(*value, grid)\n",
    "                for n in neighbors:\n",
    "                    if get_value(*n, grid) == '1':\n",
    "                        to_check.add(n)\n",
    "        # else do nothing\n",
    "        seen.add(value)\n",
    "    return seen\n",
    "\n",
    "all_seen = set()\n",
    "groups = []\n",
    "for i in range(len(grid)):\n",
    "    for j in range(len(grid[0])):\n",
    "        to_check = get_value(i, j, grid)\n",
    "        if to_check == '1' and (i,j) not in all_seen:\n",
    "            g = find_group(i, j, grid)\n",
    "            groups.append(g)\n",
    "            all_seen.update(g)\n",
    "\n",
    "len(groups)    "
   ]
  },
  {
   "cell_type": "markdown",
   "id": "a9dd6c5b-9a4a-4fbf-8f64-dc20fb64efaf",
   "metadata": {},
   "source": [
    "# Day 15"
   ]
  },
  {
   "cell_type": "code",
   "execution_count": 1,
   "id": "2a5274a1-5034-4969-85b1-294fa095f7cb",
   "metadata": {},
   "outputs": [
    {
     "data": {
      "text/plain": [
       "600"
      ]
     },
     "execution_count": 1,
     "metadata": {},
     "output_type": "execute_result"
    }
   ],
   "source": [
    "a = 699\n",
    "b = 124\n",
    "\n",
    "factor_a = 16807\n",
    "factor_b = 48271\n",
    "\n",
    "divisor = 2147483647\n",
    "\n",
    "matches = 0\n",
    "for i in range(40000000):\n",
    "    a = a * factor_a % divisor\n",
    "    b = b * factor_b % divisor\n",
    "    if bin(a)[-16:] == bin(b)[-16:]:\n",
    "        matches += 1\n",
    "\n",
    "matches"
   ]
  },
  {
   "cell_type": "code",
   "execution_count": 2,
   "id": "15c4057d-3960-4a74-adb4-eeac036372e3",
   "metadata": {},
   "outputs": [
    {
     "data": {
      "text/plain": [
       "313"
      ]
     },
     "execution_count": 2,
     "metadata": {},
     "output_type": "execute_result"
    }
   ],
   "source": [
    "a, b = 699, 124\n",
    "currenta, currentb = None, None\n",
    "factor_a, factor_b = 16807, 48271\n",
    "divisor = 2147483647\n",
    "matches, counter = 0, 0\n",
    "\n",
    "while counter < 5000000:\n",
    "    while currenta is None:\n",
    "        a = a * factor_a % divisor\n",
    "        if a % 4 == 0:\n",
    "            currenta = a\n",
    "    while currentb is None:\n",
    "        b = b * factor_b % divisor\n",
    "        if b % 8 == 0:\n",
    "            currentb = b\n",
    "\n",
    "    if bin(currenta)[-16:] == bin(currentb)[-16:]:\n",
    "        matches += 1\n",
    "\n",
    "    counter += 1\n",
    "    currenta, currentb = None, None\n",
    "\n",
    "matches"
   ]
  },
  {
   "cell_type": "markdown",
   "id": "9425ce50-8131-4fa7-b0a5-c5fa938114d7",
   "metadata": {},
   "source": [
    "# Day 16"
   ]
  },
  {
   "cell_type": "code",
   "execution_count": 1,
   "id": "c94850c2-0230-455f-9314-b020ce5311f3",
   "metadata": {},
   "outputs": [
    {
     "data": {
      "text/plain": [
       "'bijankplfgmeodhc'"
      ]
     },
     "execution_count": 1,
     "metadata": {},
     "output_type": "execute_result"
    }
   ],
   "source": [
    "from collections import deque\n",
    "moves = open(\"data/day16\").read().strip().split(\",\")\n",
    "\n",
    "letters = 'abcdefghijklmnop'\n",
    "input = deque([i for i in letters])\n",
    "\n",
    "for move in moves:\n",
    "    if move[0]==\"s\":\n",
    "        spins = int(move[1:])\n",
    "        input.rotate(spins)\n",
    "    if move[0]==\"x\":\n",
    "        a, b = map(int, move[1:].split(\"/\"))\n",
    "        # print(move[1:], a, b)\n",
    "        input[a], input[b] = input[b], input[a]\n",
    "    if move[0]==\"p\":\n",
    "        a, b = move[1:].split(\"/\")\n",
    "        c, d = None, None\n",
    "        for idx, letter in enumerate(input):\n",
    "            if letter == a:\n",
    "                c = idx\n",
    "            elif letter == b:\n",
    "                d = idx\n",
    "        input[c], input[d] = input[d], input[c]\n",
    "        \n",
    "\"\".join(input)        "
   ]
  },
  {
   "cell_type": "code",
   "execution_count": 5,
   "id": "3e60ca95-a530-44bf-bb22-b7220d112702",
   "metadata": {},
   "outputs": [
    {
     "data": {
      "text/plain": [
       "'bpjahknliomefdgc'"
      ]
     },
     "execution_count": 5,
     "metadata": {},
     "output_type": "execute_result"
    }
   ],
   "source": [
    "from collections import deque\n",
    "moves = open(\"data/day16\").read().strip().split(\",\")\n",
    "\n",
    "letters = 'abcdefghijklmnop'\n",
    "input = deque([i for i in letters])\n",
    "\n",
    "\n",
    "# figure on the cycle\n",
    "done_after = 1000000000%36\n",
    "\n",
    "for round in range(done_after):\n",
    "    for move in moves:\n",
    "        if move[0]==\"s\":\n",
    "            spins = int(move[1:])\n",
    "            input.rotate(spins)\n",
    "        if move[0]==\"x\":\n",
    "            a, b = map(int, move[1:].split(\"/\"))\n",
    "            # print(move[1:], a, b)\n",
    "            input[a], input[b] = input[b], input[a]\n",
    "        if move[0]==\"p\":\n",
    "            a, b = move[1:].split(\"/\")\n",
    "            c, d = None, None\n",
    "            for idx, letter in enumerate(input):\n",
    "                if letter == a:\n",
    "                    c = idx\n",
    "                elif letter == b:\n",
    "                    d = idx\n",
    "            input[c], input[d] = input[d], input[c]\n",
    "    final_set = \"\".join(input)\n",
    "\n",
    "final_set"
   ]
  },
  {
   "cell_type": "markdown",
   "id": "d2f0c941-b0b5-4717-9224-f42f43c0f422",
   "metadata": {},
   "source": [
    "# Day 17"
   ]
  },
  {
   "cell_type": "code",
   "execution_count": 6,
   "id": "bdfcca40-e27f-4b40-a257-19ea9d153db4",
   "metadata": {},
   "outputs": [
    {
     "data": {
      "text/plain": [
       "1244"
      ]
     },
     "execution_count": 6,
     "metadata": {},
     "output_type": "execute_result"
    }
   ],
   "source": [
    "spinlock = [0]\n",
    "turns = 370\n",
    "starting_location = 0\n",
    "\n",
    "for i in range(1, 2018):\n",
    "    position = (starting_location + turns)%len(spinlock)\n",
    "    spinlock = spinlock[:position+1] + [i] + spinlock[position+1:]\n",
    "    starting_location = spinlock.index(i)\n",
    "\n",
    "spinlock[(spinlock.index(2017)+1)]"
   ]
  },
  {
   "cell_type": "code",
   "execution_count": 7,
   "id": "32efd8ea-ed46-450e-abe7-d4d7d95bc906",
   "metadata": {},
   "outputs": [
    {
     "data": {
      "text/plain": [
       "11162912"
      ]
     },
     "execution_count": 7,
     "metadata": {},
     "output_type": "execute_result"
    }
   ],
   "source": [
    "turns = 370\n",
    "starting_location = 0\n",
    "new_right = None\n",
    "\n",
    "for i in range(1, 50000001):\n",
    "    position = (starting_location + turns)%i\n",
    "    if position == 0:\n",
    "        new_right = i\n",
    "    starting_location = position + 1\n",
    "\n",
    "new_right"
   ]
  },
  {
   "cell_type": "markdown",
   "id": "ff69b7de-0fb0-4451-956d-118cd0b1c62f",
   "metadata": {},
   "source": [
    "# Day 18"
   ]
  },
  {
   "cell_type": "code",
   "execution_count": 2,
   "id": "5f7cd851-d580-43e6-aeb0-8a7598ed11d2",
   "metadata": {},
   "outputs": [
    {
     "data": {
      "text/plain": [
       "4601"
      ]
     },
     "execution_count": 2,
     "metadata": {},
     "output_type": "execute_result"
    }
   ],
   "source": [
    "cmds = [i.split() for i in open('data/day18').read().strip().split(\"\\n\")]\n",
    "\n",
    "from collections import defaultdict\n",
    "\n",
    "last_played = None\n",
    "recovered_frequency = None\n",
    "registers = defaultdict(lambda: 0)\n",
    "idx = 0\n",
    "while True:\n",
    "    cmd = cmds[idx]\n",
    "\n",
    "    match(cmd[0]):\n",
    "        case \"snd\":\n",
    "            last_played = registers[cmd[1]]\n",
    "            idx += 1\n",
    "        case \"set\":\n",
    "            if cmd[2].isalpha():\n",
    "                registers[cmd[1]] = registers[cmd[2]]\n",
    "            else:\n",
    "                registers[cmd[1]] = int(cmd[2])\n",
    "            idx += 1\n",
    "        case \"add\":\n",
    "            registers[cmd[1]] = registers[cmd[1]] + int(cmd[2])\n",
    "            idx += 1\n",
    "        case \"mul\":\n",
    "            if cmd[2].isalpha():\n",
    "                registers[cmd[1]] = registers[cmd[1]] * registers[cmd[2]]\n",
    "            else:\n",
    "                registers[cmd[1]] = registers[cmd[1]] * int(cmd[2])\n",
    "            idx += 1\n",
    "        case \"mod\":\n",
    "            if cmd[2].isalpha():\n",
    "                registers[cmd[1]] = registers[cmd[1]] % registers[cmd[2]]\n",
    "            else:\n",
    "                registers[cmd[1]] = registers[cmd[1]] % int(cmd[2])\n",
    "            idx += 1\n",
    "        case \"jgz\":\n",
    "            if registers[cmd[1]] > 0:\n",
    "                idx += int(cmd[2]) \n",
    "            else:\n",
    "                idx += 1 \n",
    "        case \"rcv\":\n",
    "            if registers[cmd[1]] != 0:\n",
    "                recovered_frequency = last_played\n",
    "                break\n",
    "            idx += 1\n",
    "            \n",
    "recovered_frequency"
   ]
  },
  {
   "cell_type": "code",
   "execution_count": 3,
   "id": "ec419520-f122-4ec2-b05d-01eec5cb2e8b",
   "metadata": {},
   "outputs": [
    {
     "data": {
      "text/plain": [
       "6858"
      ]
     },
     "execution_count": 3,
     "metadata": {},
     "output_type": "execute_result"
    }
   ],
   "source": [
    "cmds = [i.split() for i in open('data/day18').read().strip().split(\"\\n\")]\n",
    "\n",
    "from collections import defaultdict\n",
    "\n",
    "registers = {0: defaultdict(lambda: 0), 1: defaultdict(lambda: 0)}\n",
    "registers[0]['p'], registers[1]['p'] = 0, 1\n",
    "queue = {0: list(), 1: list()}\n",
    "idx = {0: 0, 1: 0}\n",
    "sent = {0: 0, 1: 0}\n",
    "\n",
    "def process(cmd, program, self_queue, other_queue,):\n",
    "    match(cmd[0]):\n",
    "        case \"snd\":\n",
    "            if cmd[1].isalpha():\n",
    "                act_command = registers[program][cmd[1]]\n",
    "            else:\n",
    "                act_command = int(cmd[1])\n",
    "\n",
    "            other_queue.append(act_command)\n",
    "            idx[program] += 1\n",
    "            sent[program] += 1\n",
    "        case \"set\":\n",
    "            if cmd[2].isalpha():\n",
    "                act_command = registers[program][cmd[2]]\n",
    "            else:\n",
    "                act_command = int(cmd[2])\n",
    "            \n",
    "            registers[program][cmd[1]] = act_command\n",
    "            idx[program] += 1\n",
    "        case \"add\":\n",
    "            if cmd[2].isalpha():\n",
    "                act_command = registers[program][cmd[2]]\n",
    "            else:\n",
    "                act_command = int(cmd[2])\n",
    "            \n",
    "            registers[program][cmd[1]] = registers[program][cmd[1]] + act_command\n",
    "            idx[program] += 1\n",
    "        case \"mul\":\n",
    "            if cmd[2].isalpha():\n",
    "                act_command = registers[program][cmd[2]]\n",
    "            else:\n",
    "                act_command = int(cmd[2])\n",
    "                \n",
    "            registers[program][cmd[1]] = registers[program][cmd[1]] * act_command\n",
    "            idx[program] += 1\n",
    "        case \"mod\":\n",
    "            if cmd[2].isalpha():\n",
    "                act_command = registers[program][cmd[2]]\n",
    "            else:\n",
    "                act_command = int(cmd[2])\n",
    "                \n",
    "            registers[program][cmd[1]] = registers[program][cmd[1]] % act_command\n",
    "            idx[program] += 1\n",
    "        case \"jgz\":\n",
    "            if cmd[1].isalpha():\n",
    "                act_command = registers[program][cmd[1]]\n",
    "            else:\n",
    "                act_command = int(cmd[1])\n",
    "                \n",
    "            if act_command > 0:\n",
    "                if cmd[2].isalpha():\n",
    "                    idx[program] = idx[program] + registers[program][cmd[2]]\n",
    "                else:\n",
    "                    idx[program] = idx[program] + int(cmd[2])\n",
    "            else:\n",
    "                idx[program] += 1\n",
    "        case \"rcv\":\n",
    "            try:\n",
    "                result = self_queue.pop(0)\n",
    "            except Exception as e:\n",
    "                return -1\n",
    "            registers[program][cmd[1]] = result\n",
    "            idx[program] += 1\n",
    "\n",
    "current = 0 \n",
    "while True:\n",
    "    cmd = cmds[idx[current]]\n",
    "\n",
    "    if current == 0:\n",
    "        err = process(cmd, 0, queue[0], queue[1])\n",
    "    else:\n",
    "        err = process(cmd, 1, queue[1], queue[0])\n",
    "    \n",
    "    if err==-1:\n",
    "        if queue[0] == queue[1] == []:\n",
    "            break\n",
    "        else:\n",
    "            if current == 0:\n",
    "                current = 1\n",
    "            else:\n",
    "                current = 0\n",
    "                \n",
    "\n",
    "sent[1]"
   ]
  },
  {
   "cell_type": "code",
   "execution_count": null,
   "id": "8ddf72d8-0875-4809-99f7-ddc5884a674d",
   "metadata": {},
   "outputs": [],
   "source": []
  }
 ],
 "metadata": {
  "kernelspec": {
   "display_name": "Python 3 (ipykernel)",
   "language": "python",
   "name": "python3"
  },
  "language_info": {
   "codemirror_mode": {
    "name": "ipython",
    "version": 3
   },
   "file_extension": ".py",
   "mimetype": "text/x-python",
   "name": "python",
   "nbconvert_exporter": "python",
   "pygments_lexer": "ipython3",
   "version": "3.13.5"
  }
 },
 "nbformat": 4,
 "nbformat_minor": 5
}
