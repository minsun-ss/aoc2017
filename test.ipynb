{
 "cells": [
  {
   "cell_type": "code",
   "execution_count": 37,
   "id": "48d5eb66-3ca1-474a-9487-b7073f572ed4",
   "metadata": {},
   "outputs": [
    {
     "data": {
      "text/plain": [
       "6909"
      ]
     },
     "execution_count": 37,
     "metadata": {},
     "output_type": "execute_result"
    }
   ],
   "source": [
    "file = [int(i) for i in open('data/day17').read().strip().split(',')]\n",
    "\n",
    "start = list(range(256))\n",
    "current_position = 0\n",
    "skip = 0\n",
    "\n",
    "for length in file:\n",
    "    temp = []\n",
    "    for i in range(length//2):\n",
    "        start[(current_position+i)%len(start)], start[(current_position+length-i-1)%len(start)] =  start[(current_position+length-i-1)%len(start)], start[(current_position+i)%len(start)]\n",
    "    current_position = (current_position + length + skip) % len(start)\n",
    "    skip += 1 \n",
    "\n",
    "start[0]*start[1]"
   ]
  },
  {
   "cell_type": "code",
   "execution_count": 89,
   "id": "c67f47b1-f626-4952-b34d-72d73c664e19",
   "metadata": {},
   "outputs": [
    {
     "name": "stdout",
     "output_type": "stream",
     "text": [
      "24 0x18\n",
      "51 0x33\n",
      "248 0xf8\n",
      "116 0x74\n",
      "192 0xc0\n",
      "244 0xf4\n",
      "4 0x4\n",
      "14 0xe\n",
      "119 0x77\n",
      "102 0x66\n",
      "117 0x75\n",
      "49 0x31\n",
      "104 0x68\n",
      "154 0x9a\n",
      "110 0x6e\n",
      "80 0x50\n"
     ]
    },
    {
     "data": {
      "text/plain": [
       "'1833f874c0f4040e77667531689a6e50'"
      ]
     },
     "execution_count": 89,
     "metadata": {},
     "output_type": "execute_result"
    }
   ],
   "source": [
    "file = [ord(i) for i in open('data/test').read().strip().replace(\",\", \" , \").split()]\n",
    "file.extend([17, 31, 73, 47, 23])\n",
    "\n",
    "start = list(range(256))\n",
    "current_position = 0\n",
    "skip = 0\n",
    "\n",
    "for _ in range(64):\n",
    "    for length in file:\n",
    "        temp = []\n",
    "        for i in range(length//2):\n",
    "            start[(current_position+i)%len(start)], start[(current_position+length-i-1)%len(start)] =  start[(current_position+length-i-1)%len(start)], start[(current_position+i)%len(start)]\n",
    "        current_position = (current_position + length + skip) % len(start)\n",
    "    skip += 1 \n",
    "\n",
    "result = \"\"\n",
    "for i in range(len(start)//16):\n",
    "    hsh = start[(i*16)]\n",
    "    for j in range(1,16):\n",
    "        hsh ^= start[j+(i*16)]\n",
    "\n",
    "    print(hsh, hex(hsh))\n",
    "    result = result + hex(hsh)[2:].rjust(2,\"0\")\n",
    "\n",
    "result\n",
    "\n"
   ]
  },
  {
   "cell_type": "code",
   "execution_count": 71,
   "id": "354aa42e-2295-4574-8276-5a07707593a4",
   "metadata": {},
   "outputs": [
    {
     "data": {
      "text/plain": [
       "'07'"
      ]
     },
     "execution_count": 71,
     "metadata": {},
     "output_type": "execute_result"
    }
   ],
   "source": []
  }
 ],
 "metadata": {
  "kernelspec": {
   "display_name": "Python 3 (ipykernel)",
   "language": "python",
   "name": "python3"
  },
  "language_info": {
   "codemirror_mode": {
    "name": "ipython",
    "version": 3
   },
   "file_extension": ".py",
   "mimetype": "text/x-python",
   "name": "python",
   "nbconvert_exporter": "python",
   "pygments_lexer": "ipython3",
   "version": "3.12.7"
  }
 },
 "nbformat": 4,
 "nbformat_minor": 5
}
